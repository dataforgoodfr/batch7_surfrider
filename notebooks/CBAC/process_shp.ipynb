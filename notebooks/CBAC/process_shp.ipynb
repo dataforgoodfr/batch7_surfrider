{
 "cells": [
  {
   "cell_type": "code",
   "execution_count": 22,
   "metadata": {},
   "outputs": [],
   "source": [
    "import pandas as pd\n",
    "import fiona\n",
    "import os\n",
    "import geopandas as gpd"
   ]
  },
  {
   "cell_type": "code",
   "execution_count": 23,
   "metadata": {},
   "outputs": [],
   "source": [
    "DATA_DIR = '../../raw_data'"
   ]
  },
  {
   "cell_type": "code",
   "execution_count": 24,
   "metadata": {},
   "outputs": [
    {
     "name": "stdout",
     "output_type": "stream",
     "text": [
      "COMMUNE.shp : (35228, 13)\n",
      "COMMUNE_CARTO.shp : (35228, 12)\n",
      "ARRONDISSEMENT_DEPARTEMENTAL.shp : (320, 5)\n",
      "REGION.shp : (13, 4)\n",
      "REGION_CARTO.shp : (13, 4)\n",
      "CHEF_LIEU.shp : (35228, 5)\n",
      "ARRONDISSEMENT_DEPARTEMENTAL_CARTO.shp : (320, 5)\n",
      "DEPARTEMENT_CARTO.shp : (96, 5)\n",
      "EPCI.shp : (1241, 5)\n",
      "DEPARTEMENT.shp : (96, 5)\n",
      "EPCI_CARTO.shp : (1241, 5)\n",
      "LIMITE_TERRE_MER.shp : (22694, 17)\n",
      "SURFACE_HYDROGRAPHIQUE.shp : (935157, 28)\n",
      "NOEUD_HYDROGRAPHIQUE.shp : (104381, 21)\n",
      "COURS_D_EAU.shp : (126545, 16)\n",
      "PLAN_D_EAU.shp : (34278, 23)\n",
      "TOPONYMIE_HYDROGRAPHIE.shp : (119674, 8)\n",
      "DETAIL_HYDROGRAPHIQUE.shp : (156535, 15)\n",
      "TRONCON_HYDROGRAPHIQUE.shp : (2700418, 39)\n",
      "BASSIN_VERSANT_TOPOGRAPHIQUE.shp : (6190, 20)\n"
     ]
    }
   ],
   "source": [
    "folder_list= [\"ADMIN-EXPRESS-COG_1-1__SHP__FRA_2018-04-03/ADMIN-EXPRESS-COG/1_DONNEES_LIVRAISON_2018-03-28/ADE-COG_1-1_SHP_LAMB93_FR\",\n",
    " \"BDTOPO_3-0_HYDROGRAPHIE_SHP_LAMB93_FXX_2019-12-16/BDTOPO/1_DONNEES_LIVRAISON_2019-12-00347/BDT_3-0_SHP_LAMB93_FXX_ED2019-12-16/HYDROGRAPHIE\"]\n",
    "\n",
    "for folder in folder_list : \n",
    "    file_list = [filename for filename in os.listdir(f\"{DATA_DIR}/{folder}\") if filename.endswith(\"shp\")]\n",
    "    for filename in file_list : \n",
    "        data = gpd.read_file(f\"{DATA_DIR}/{folder}/{filename}\")\n",
    "        data.columns = [col.lower().replace(\" \", \"_\") for col in data.columns]\n",
    "        print(f'{filename} : {data.shape}')\n",
    "        filename = filename.replace(\".shp\", \".csv\")\n",
    "        data.to_csv(f\"../../prep/{filename}\", index = False)"
   ]
  },
  {
   "cell_type": "code",
   "execution_count": 89,
   "metadata": {},
   "outputs": [],
   "source": [
    "files_prep = [i for i in os.listdir(\"../../prep/\") if not i.startswith(\".\") and not 'CARTO' in i]"
   ]
  },
  {
   "cell_type": "code",
   "execution_count": 91,
   "metadata": {},
   "outputs": [],
   "source": [
    "main_dir = \"/Users/baccarclement/Desktop/surfrider/docker/prep\""
   ]
  },
  {
   "cell_type": "code",
   "execution_count": 94,
   "metadata": {},
   "outputs": [],
   "source": [
    "query_list = list()\n",
    "for f in files_prep: \n",
    "    filename=f\"{main_dir}/{f}\"\n",
    "    f = f.replace(\".csv\" ,\"\").lower()\n",
    "    df = pd.read_csv(filename, nrows=1)\n",
    "    columns = df.columns\n",
    "    values = [f\"{i} text\" if not 'geom' in f'{i}'else  f\"{i} geometry\"  for i in df.columns ]\n",
    "    query = f\"DROP TABLE IF EXISTS raw_data.{f}; CREATE TABLE raw_data.{f} (\"+\",\".join(values)+\")\"+ f\"; COPY raw_data.{f} FROM '{filename}' DELIMITER ',' CSV header;\"\n",
    "    query_list.append(query)\n",
    "\n",
    "\n",
    "    "
   ]
  },
  {
   "cell_type": "code",
   "execution_count": 95,
   "metadata": {},
   "outputs": [
    {
     "name": "stdout",
     "output_type": "stream",
     "text": [
      "DROP TABLE IF EXISTS raw_data.detail_hydrographique; CREATE TABLE raw_data.detail_hydrographique (id text,nature text,nat_detail text,toponyme text,statut_top text,importance text,etat text,date_creat text,date_maj text,date_app text,date_conf text,source text,id_source text,prec_plani text,geometry geometry); COPY raw_data.detail_hydrographique FROM '/Users/baccarclement/Desktop/surfrider/docker/prep/DETAIL_HYDROGRAPHIQUE.csv' DELIMITER ',' CSV header;\n",
      "DROP TABLE IF EXISTS raw_data.epci; CREATE TABLE raw_data.epci (id text,code_epci text,nom_epci text,type_epci text,geometry geometry); COPY raw_data.epci FROM '/Users/baccarclement/Desktop/surfrider/docker/prep/EPCI.csv' DELIMITER ',' CSV header;\n",
      "DROP TABLE IF EXISTS raw_data.bassin_versant_topographique; CREATE TABLE raw_data.bassin_versant_topographique (id text,code_hydro text,toponyme text,bass_hydro text,date_creat text,date_maj text,date_app text,date_conf text,source text,id_source text,prec_plani text,src_coord text,statut text,b_fluvial text,origine text,comment text,code_bh text,code_carth text,id_c_eau text,geometry geometry); COPY raw_data.bassin_versant_topographique FROM '/Users/baccarclement/Desktop/surfrider/docker/prep/BASSIN_VERSANT_TOPOGRAPHIQUE.csv' DELIMITER ',' CSV header;\n",
      "DROP TABLE IF EXISTS raw_data.troncon_hydrographique; CREATE TABLE raw_data.troncon_hydrographique (id text,code_hydro text,code_pays text,nature text,fictif text,pos_sol text,etat text,date_creat text,date_maj text,date_app text,date_conf text,source text,id_source text,prec_plani text,prec_alti text,src_coord text,src_alti text,statut text,persistanc text,fosse text,navigabl text,salinite text,num_ordre text,cla_ordre text,origine text,per_ordre text,sens_ecoul text,res_coulan text,delimit text,largeur text,bras text,comment text,code_carth text,id_c_eau text,id_s_hydro text,id_ent_tr text,nom_c_eau text,nom_ent_tr text,geometry geometry); COPY raw_data.troncon_hydrographique FROM '/Users/baccarclement/Desktop/surfrider/docker/prep/TRONCON_HYDROGRAPHIQUE.csv' DELIMITER ',' CSV header;\n",
      "DROP TABLE IF EXISTS raw_data.departement; CREATE TABLE raw_data.departement (id text,nom_dep text,insee_dep text,insee_reg text,geometry geometry); COPY raw_data.departement FROM '/Users/baccarclement/Desktop/surfrider/docker/prep/DEPARTEMENT.csv' DELIMITER ',' CSV header;\n",
      "DROP TABLE IF EXISTS raw_data.surface_hydrographique; CREATE TABLE raw_data.surface_hydrographique (id text,code_hydro text,code_pays text,nature text,pos_sol text,etat text,date_creat text,date_maj text,date_app text,date_conf text,source text,id_source text,prec_plani text,prec_alti text,src_coord text,src_alti text,statut text,persistanc text,salinite text,origine text,comment text,id_p_eau text,id_c_eau text,id_ent_tr text,nom_p_eau text,nom_c_eau text,nom_ent_tr text,geometry geometry); COPY raw_data.surface_hydrographique FROM '/Users/baccarclement/Desktop/surfrider/docker/prep/SURFACE_HYDROGRAPHIQUE.csv' DELIMITER ',' CSV header;\n",
      "DROP TABLE IF EXISTS raw_data.limite_terre_mer; CREATE TABLE raw_data.limite_terre_mer (id text,code_hydro text,code_pays text,type_limit text,niveau text,date_creat text,date_maj text,date_app text,date_conf text,source text,id_source text,prec_plani text,src_coord text,statut text,origine text,comment text,geometry geometry); COPY raw_data.limite_terre_mer FROM '/Users/baccarclement/Desktop/surfrider/docker/prep/LIMITE_TERRE_MER.csv' DELIMITER ',' CSV header;\n",
      "DROP TABLE IF EXISTS raw_data.arrondissement_departemental; CREATE TABLE raw_data.arrondissement_departemental (id text,insee_arr text,insee_dep text,insee_reg text,geometry geometry); COPY raw_data.arrondissement_departemental FROM '/Users/baccarclement/Desktop/surfrider/docker/prep/ARRONDISSEMENT_DEPARTEMENTAL.csv' DELIMITER ',' CSV header;\n",
      "DROP TABLE IF EXISTS raw_data.region; CREATE TABLE raw_data.region (id text,nom_reg text,insee_reg text,geometry geometry); COPY raw_data.region FROM '/Users/baccarclement/Desktop/surfrider/docker/prep/REGION.csv' DELIMITER ',' CSV header;\n",
      "DROP TABLE IF EXISTS raw_data.commune; CREATE TABLE raw_data.commune (id text,statut text,insee_com text,nom_com text,insee_arr text,nom_dep text,insee_dep text,nom_reg text,insee_reg text,code_epci text,nom_com_m text,population text,geometry geometry); COPY raw_data.commune FROM '/Users/baccarclement/Desktop/surfrider/docker/prep/COMMUNE.csv' DELIMITER ',' CSV header;\n",
      "DROP TABLE IF EXISTS raw_data.cours_d_eau; CREATE TABLE raw_data.cours_d_eau (id text,code_hydro text,toponyme text,statut_top text,importance text,date_creat text,date_maj text,date_app text,date_conf text,source text,id_source text,statut text,maree text,permanent text,comment text,geometry geometry); COPY raw_data.cours_d_eau FROM '/Users/baccarclement/Desktop/surfrider/docker/prep/COURS_D_EAU.csv' DELIMITER ',' CSV header;\n",
      "DROP TABLE IF EXISTS raw_data.chef_lieu; CREATE TABLE raw_data.chef_lieu (id text,nom_chf text,statut text,insee_com text,geometry geometry); COPY raw_data.chef_lieu FROM '/Users/baccarclement/Desktop/surfrider/docker/prep/CHEF_LIEU.csv' DELIMITER ',' CSV header;\n",
      "DROP TABLE IF EXISTS raw_data.plan_d_eau; CREATE TABLE raw_data.plan_d_eau (id text,code_hydro text,nature text,toponyme text,statut_top text,importance text,date_creat text,date_maj text,date_app text,date_conf text,source text,id_source text,statut text,maree text,permanent text,z_moy text,ref_z_moy text,mode_z_moy text,prec_z_moy text,haut_max text,obt_ht_max text,comment text,geometry geometry); COPY raw_data.plan_d_eau FROM '/Users/baccarclement/Desktop/surfrider/docker/prep/PLAN_D_EAU.csv' DELIMITER ',' CSV header;\n",
      "DROP TABLE IF EXISTS raw_data.toponymie_hydrographie; CREATE TABLE raw_data.toponymie_hydrographie (id text,classe text,nature text,graphie text,source text,statut_top text,date_top text,geometry geometry); COPY raw_data.toponymie_hydrographie FROM '/Users/baccarclement/Desktop/surfrider/docker/prep/TOPONYMIE_HYDROGRAPHIE.csv' DELIMITER ',' CSV header;\n",
      "DROP TABLE IF EXISTS raw_data.noeud_hydrographique; CREATE TABLE raw_data.noeud_hydrographique (id text,code_hydro text,code_pays text,categorie text,toponyme text,statut_top text,date_creat text,date_maj text,date_app text,date_conf text,source text,id_source text,prec_plani text,prec_alti text,src_coord text,src_alti text,statut text,comment text,id_ce_amon text,id_ce_aval text,geometry geometry); COPY raw_data.noeud_hydrographique FROM '/Users/baccarclement/Desktop/surfrider/docker/prep/NOEUD_HYDROGRAPHIQUE.csv' DELIMITER ',' CSV header;\n"
     ]
    }
   ],
   "source": [
    "print(\"\\n\".join(query_list))"
   ]
  }
 ],
 "metadata": {
  "kernelspec": {
   "display_name": "mobility",
   "language": "python",
   "name": "mobility"
  },
  "language_info": {
   "codemirror_mode": {
    "name": "ipython",
    "version": 3
   },
   "file_extension": ".py",
   "mimetype": "text/x-python",
   "name": "python",
   "nbconvert_exporter": "python",
   "pygments_lexer": "ipython3",
   "version": "3.7.1"
  }
 },
 "nbformat": 4,
 "nbformat_minor": 2
}
