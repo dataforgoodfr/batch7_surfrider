{
 "cells": [
  {
   "cell_type": "code",
   "execution_count": 16,
   "metadata": {},
   "outputs": [],
   "source": [
    "import pandas as pd\n",
    "import fiona\n",
    "import os\n",
    "import geopandas as gpd"
   ]
  },
  {
   "cell_type": "code",
   "execution_count": 7,
   "metadata": {},
   "outputs": [],
   "source": [
    "DATA_DIR = '../../raw_data'"
   ]
  },
  {
   "cell_type": "code",
   "execution_count": 32,
   "metadata": {},
   "outputs": [],
   "source": [
    "folder_list= [\"ADMIN-EXPRESS-COG_1-1__SHP__FRA_2018-04-03/ADMIN-EXPRESS-COG/1_DONNEES_LIVRAISON_2018-03-28/ADE-COG_1-1_SHP_LAMB93_FR\",\n",
    " \"BDTOPO_3-0_HYDROGRAPHIE_SHP_LAMB93_FXX_2019-12-16/BDTOPO/1_DONNEES_LIVRAISON_2019-12-00347/BDT_3-0_SHP_LAMB93_FXX_ED2019-12-16/HYDROGRAPHIE\"]"
   ]
  },
  {
   "cell_type": "code",
   "execution_count": null,
   "metadata": {},
   "outputs": [
    {
     "name": "stdout",
     "output_type": "stream",
     "text": [
      "COMMUNE.shp\n",
      "COMMUNE_CARTO.shp\n",
      "ARRONDISSEMENT_DEPARTEMENTAL.shp\n",
      "REGION.shp\n",
      "REGION_CARTO.shp\n",
      "CHEF_LIEU.shp\n",
      "ARRONDISSEMENT_DEPARTEMENTAL_CARTO.shp\n",
      "DEPARTEMENT_CARTO.shp\n",
      "EPCI.shp\n",
      "DEPARTEMENT.shp\n",
      "EPCI_CARTO.shp\n",
      "LIMITE_TERRE_MER.shp\n",
      "SURFACE_HYDROGRAPHIQUE.shp\n"
     ]
    }
   ],
   "source": [
    "for folder in folder_list : \n",
    "    file_list = [filename for filename in os.listdir(f\"{DATA_DIR}/{folder}\") if filename.endswith(\"shp\")]\n",
    "    for filename in file_list : \n",
    "        print(filename)\n",
    "        data = gpd.read_file(f\"{DATA_DIR}/{folder}/{filename}\")\n",
    "        data.to_csv(f\"../../raw_data/prep_{filename}\", index = False)"
   ]
  },
  {
   "cell_type": "code",
   "execution_count": 28,
   "metadata": {},
   "outputs": [],
   "source": []
  },
  {
   "cell_type": "code",
   "execution_count": 29,
   "metadata": {},
   "outputs": [],
   "source": []
  },
  {
   "cell_type": "code",
   "execution_count": null,
   "metadata": {},
   "outputs": [],
   "source": []
  }
 ],
 "metadata": {
  "kernelspec": {
   "display_name": "mobility",
   "language": "python",
   "name": "mobility"
  },
  "language_info": {
   "codemirror_mode": {
    "name": "ipython",
    "version": 3
   },
   "file_extension": ".py",
   "mimetype": "text/x-python",
   "name": "python",
   "nbconvert_exporter": "python",
   "pygments_lexer": "ipython3",
   "version": "3.7.1"
  }
 },
 "nbformat": 4,
 "nbformat_minor": 2
}
