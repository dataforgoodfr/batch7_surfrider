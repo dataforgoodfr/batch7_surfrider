{
 "cells": [
  {
   "cell_type": "code",
   "execution_count": 17,
   "metadata": {
    "ExecuteTime": {
     "end_time": "2020-04-11T16:57:02.321193Z",
     "start_time": "2020-04-11T16:57:02.318228Z"
    }
   },
   "outputs": [],
   "source": [
    "PATH =  '/Users/raphaelcourivaud/Pictures/GoPro/2019-09-08/HERO7 BLACK 1/GH011110.MP4'"
   ]
  },
  {
   "cell_type": "code",
   "execution_count": 13,
   "metadata": {
    "ExecuteTime": {
     "end_time": "2020-04-11T16:55:59.865968Z",
     "start_time": "2020-04-11T16:55:59.863019Z"
    }
   },
   "outputs": [],
   "source": [
    "import glob"
   ]
  },
  {
   "cell_type": "code",
   "execution_count": 18,
   "metadata": {
    "ExecuteTime": {
     "end_time": "2020-04-11T16:57:08.708666Z",
     "start_time": "2020-04-11T16:57:08.706036Z"
    }
   },
   "outputs": [],
   "source": [
    "#glob.glob(PATH + \"*.\")"
   ]
  },
  {
   "cell_type": "code",
   "execution_count": 8,
   "metadata": {
    "ExecuteTime": {
     "end_time": "2020-04-11T16:55:37.762298Z",
     "start_time": "2020-04-11T16:55:32.431815Z"
    }
   },
   "outputs": [
    {
     "name": "stdout",
     "output_type": "stream",
     "text": [
      "Collecting exifread\n",
      "  Downloading https://files.pythonhosted.org/packages/7b/cb/92b644626830115910cf2b36d3dfa600adbec86dff3207a7de3bfd6c6a60/ExifRead-2.1.2.tar.gz\n",
      "Building wheels for collected packages: exifread\n",
      "  Building wheel for exifread (setup.py) ... \u001b[?25ldone\n",
      "\u001b[?25h  Created wheel for exifread: filename=ExifRead-2.1.2-cp37-none-any.whl size=34200 sha256=348b9ea98b44a2437fd7a68a4a90cf779e116cbc4d056be77c5b6726daf38d56\n",
      "  Stored in directory: /Users/raphaelcourivaud/Library/Caches/pip/wheels/a2/82/de/fd5f70739a3c8d7475cc21f4e186150abbc5d77180af7d94a2\n",
      "Successfully built exifread\n",
      "Installing collected packages: exifread\n",
      "Successfully installed exifread-2.1.2\n",
      "\u001b[33mWARNING: You are using pip version 19.2.3, however version 20.0.2 is available.\n",
      "You should consider upgrading via the 'pip install --upgrade pip' command.\u001b[0m\n"
     ]
    }
   ],
   "source": [
    "!pip install exifread"
   ]
  },
  {
   "cell_type": "code",
   "execution_count": 23,
   "metadata": {
    "ExecuteTime": {
     "end_time": "2020-04-11T16:59:33.094800Z",
     "start_time": "2020-04-11T16:59:33.091225Z"
    }
   },
   "outputs": [],
   "source": [
    "import exifread as ef\n",
    "# Open image file for reading (binary mode)\n",
    "f = open(PATH, 'rb')\n",
    "\n",
    "# Return Exif tags\n",
    "tags = ef.process_file(f)"
   ]
  },
  {
   "cell_type": "code",
   "execution_count": 24,
   "metadata": {
    "ExecuteTime": {
     "end_time": "2020-04-11T16:59:34.819435Z",
     "start_time": "2020-04-11T16:59:34.815264Z"
    }
   },
   "outputs": [
    {
     "data": {
      "text/plain": [
       "{}"
      ]
     },
     "execution_count": 24,
     "metadata": {},
     "output_type": "execute_result"
    }
   ],
   "source": [
    "tags"
   ]
  },
  {
   "cell_type": "code",
   "execution_count": null,
   "metadata": {},
   "outputs": [],
   "source": [
    "# "
   ]
  },
  {
   "cell_type": "code",
   "execution_count": 27,
   "metadata": {
    "ExecuteTime": {
     "end_time": "2020-04-11T17:01:22.591775Z",
     "start_time": "2020-04-11T17:01:18.731713Z"
    }
   },
   "outputs": [
    {
     "name": "stdout",
     "output_type": "stream",
     "text": [
      "Requirement already satisfied: gpsphoto in /anaconda3/lib/python3.7/site-packages (2.2.3)\n",
      "Collecting piexif\n",
      "  Downloading https://files.pythonhosted.org/packages/2c/d8/6f63147dd73373d051c5eb049ecd841207f898f50a5a1d4378594178f6cf/piexif-1.1.3-py2.py3-none-any.whl\n",
      "Installing collected packages: piexif\n",
      "Successfully installed piexif-1.1.3\n",
      "\u001b[33mWARNING: You are using pip version 19.2.3, however version 20.0.2 is available.\n",
      "You should consider upgrading via the 'pip install --upgrade pip' command.\u001b[0m\n",
      "Note: you may need to restart the kernel to use updated packages.\n"
     ]
    }
   ],
   "source": [
    "pip install gpsphoto piexif"
   ]
  },
  {
   "cell_type": "code",
   "execution_count": 28,
   "metadata": {
    "ExecuteTime": {
     "end_time": "2020-04-11T17:01:23.692741Z",
     "start_time": "2020-04-11T17:01:23.682571Z"
    }
   },
   "outputs": [],
   "source": [
    "from GPSPhoto import gpsphoto\n",
    "# Get the data from image file and return a dictionary\n",
    "data = gpsphoto.getGPSData(PATH)"
   ]
  },
  {
   "cell_type": "code",
   "execution_count": 31,
   "metadata": {
    "ExecuteTime": {
     "end_time": "2020-04-11T17:04:48.840307Z",
     "start_time": "2020-04-11T17:04:48.837690Z"
    }
   },
   "outputs": [],
   "source": [
    "# OPEN CV "
   ]
  },
  {
   "cell_type": "code",
   "execution_count": 32,
   "metadata": {
    "ExecuteTime": {
     "end_time": "2020-04-11T17:04:55.260803Z",
     "start_time": "2020-04-11T17:04:54.533041Z"
    }
   },
   "outputs": [],
   "source": [
    "import cv2"
   ]
  },
  {
   "cell_type": "code",
   "execution_count": 35,
   "metadata": {
    "ExecuteTime": {
     "end_time": "2020-04-11T17:06:32.336568Z",
     "start_time": "2020-04-11T17:06:32.333883Z"
    }
   },
   "outputs": [],
   "source": [
    "import cv2\n",
    "import numpy as np\n"
   ]
  },
  {
   "cell_type": "code",
   "execution_count": 36,
   "metadata": {
    "ExecuteTime": {
     "end_time": "2020-04-11T17:06:32.741955Z",
     "start_time": "2020-04-11T17:06:32.701202Z"
    }
   },
   "outputs": [],
   "source": [
    "cap = cv2.VideoCapture(PATH)\n"
   ]
  },
  {
   "cell_type": "code",
   "execution_count": 37,
   "metadata": {
    "ExecuteTime": {
     "end_time": "2020-04-11T17:06:35.057648Z",
     "start_time": "2020-04-11T17:06:33.032558Z"
    }
   },
   "outputs": [],
   "source": []
  },
  {
   "cell_type": "code",
   "execution_count": 38,
   "metadata": {
    "ExecuteTime": {
     "end_time": "2020-04-11T17:13:34.463440Z",
     "start_time": "2020-04-11T17:13:29.174389Z"
    }
   },
   "outputs": [
    {
     "name": "stdout",
     "output_type": "stream",
     "text": [
      "Collecting enzyme\n",
      "\u001b[?25l  Downloading https://files.pythonhosted.org/packages/dd/99/e4eee822d9390ebf1f63a7a67e8351c09fb7cd75262e5bb1a5256898def9/enzyme-0.4.1.tar.gz (47kB)\n",
      "\u001b[K     |████████████████████████████████| 51kB 1.5MB/s eta 0:00:011\n",
      "\u001b[?25hBuilding wheels for collected packages: enzyme\n",
      "  Building wheel for enzyme (setup.py) ... \u001b[?25ldone\n",
      "\u001b[?25h  Created wheel for enzyme: filename=enzyme-0.4.1-cp37-none-any.whl size=50730 sha256=768415b401427d432fdf8a02230ac4e30cef2b587f0bd8605b74727f32b4b265\n",
      "  Stored in directory: /Users/raphaelcourivaud/Library/Caches/pip/wheels/54/3a/c7/9604b036e78af505a7ce2bbb89808529b6ac3615f8f6787c22\n",
      "Successfully built enzyme\n",
      "Installing collected packages: enzyme\n",
      "Successfully installed enzyme-0.4.1\n",
      "\u001b[33mWARNING: You are using pip version 19.2.3, however version 20.0.2 is available.\n",
      "You should consider upgrading via the 'pip install --upgrade pip' command.\u001b[0m\n"
     ]
    }
   ],
   "source": [
    "!pip install enzyme"
   ]
  },
  {
   "cell_type": "code",
   "execution_count": 40,
   "metadata": {
    "ExecuteTime": {
     "end_time": "2020-04-11T17:13:46.234724Z",
     "start_time": "2020-04-11T17:13:46.013491Z"
    }
   },
   "outputs": [],
   "source": [
    "import enzyme"
   ]
  },
  {
   "cell_type": "code",
   "execution_count": 43,
   "metadata": {
    "ExecuteTime": {
     "end_time": "2020-04-11T17:14:03.102068Z",
     "start_time": "2020-04-11T17:14:03.098796Z"
    }
   },
   "outputs": [],
   "source": [
    "with open(PATH, 'r') as f:\n",
    "    mkv = enzyme.VideoTrack(f)"
   ]
  },
  {
   "cell_type": "code",
   "execution_count": 48,
   "metadata": {
    "ExecuteTime": {
     "end_time": "2020-04-11T17:14:40.802072Z",
     "start_time": "2020-04-11T17:14:40.799156Z"
    }
   },
   "outputs": [],
   "source": [
    "mkv.display_height"
   ]
  },
  {
   "cell_type": "code",
   "execution_count": null,
   "metadata": {},
   "outputs": [],
   "source": []
  }
 ],
 "metadata": {
  "kernelspec": {
   "display_name": "Python 3",
   "language": "python",
   "name": "python3"
  },
  "language_info": {
   "codemirror_mode": {
    "name": "ipython",
    "version": 3
   },
   "file_extension": ".py",
   "mimetype": "text/x-python",
   "name": "python",
   "nbconvert_exporter": "python",
   "pygments_lexer": "ipython3",
   "version": "3.7.6"
  }
 },
 "nbformat": 4,
 "nbformat_minor": 2
}
