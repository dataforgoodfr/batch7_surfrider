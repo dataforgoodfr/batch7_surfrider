{
 "cells": [
  {
   "cell_type": "code",
   "execution_count": 5,
   "metadata": {
    "ExecuteTime": {
     "end_time": "2020-03-19T14:11:09.992152Z",
     "start_time": "2020-03-19T14:11:09.909213Z"
    }
   },
   "outputs": [
    {
     "name": "stderr",
     "output_type": "stream",
     "text": [
      "Warning: node '8d29a68501dabc36583f38a804e54c94', graph 'Surfrider Foundation Europe' size too small for label\n"
     ]
    }
   ],
   "source": [
    "#%%\n",
    "\n",
    "from diagrams import Cluster, Diagram\n",
    "from diagrams.onprem.database import  Postgresql\n",
    "from diagrams.onprem.search import Elasticsearch\n",
    "from diagrams.onprem.monitoring import Kibana\n",
    "from diagrams.onprem.compute import Server\n",
    "from diagrams.azure.database import SQLDatabases\n",
    "from diagrams.azure.storage import BlobStorage\n",
    "from diagrams.azure.mobile import MobileEngagement, AppServiceMobile\n",
    "from diagrams.gcp.ml import AutoML\n",
    "from diagrams.onprem.compute import Server\n",
    "\n",
    "\n",
    "with Diagram(\"Surfrider Foundation Europe\",show=True):\n",
    "    kibana = Kibana(\"Kibana\")\n",
    "    argis = Server(\"Arcgis\")\n",
    "    application_or_front = AppServiceMobile(\"Front\")\n",
    "\n",
    "    with Cluster(\"IA Backend\"):\n",
    "        ia = AutoML(\"IA\")\n",
    "        blob_storage = BlobStorage(\"Storage\")\n",
    "        \n",
    "    with Cluster(\"Backend\"):\n",
    "        postgres = Postgresql(\"Postgres\")\n",
    "        elasticsearch = Elasticsearch(\"Elasticsearch\")\n",
    "        backend = Server(\"Backend\")\n",
    "\n",
    "    with Cluster(\"Devices\"):\n",
    "        phone = MobileEngagement(\"Phone\")\n",
    "        gopro = AppServiceMobile(\"GoPro\")\n",
    "    with Cluster(\"Labelisation Platform\"):\n",
    "        backend_label = Server(\"Backend\")\n",
    "        front_label = MobileEngagement(\"Labelisation Website\")\n",
    "        backend_label >> front_label >> backend_label\n",
    "    \n",
    "    backend_label >> blob_storage\n",
    "    ia >> blob_storage >> ia \n",
    "    backend_label >> postgres\n",
    "    gopro >> backend\n",
    "    phone >> backend\n",
    "    backend >> ia >> backend\n",
    "    backend >> postgres >> argis >> application_or_front\n",
    "    backend >> elasticsearch >> kibana"
   ]
  },
  {
   "cell_type": "code",
   "execution_count": null,
   "metadata": {},
   "outputs": [],
   "source": []
  }
 ],
 "metadata": {
  "kernelspec": {
   "display_name": "Python 3",
   "language": "python",
   "name": "python3"
  },
  "language_info": {
   "codemirror_mode": {
    "name": "ipython",
    "version": 3
   },
   "file_extension": ".py",
   "mimetype": "text/x-python",
   "name": "python",
   "nbconvert_exporter": "python",
   "pygments_lexer": "ipython3",
   "version": "3.7.6"
  }
 },
 "nbformat": 4,
 "nbformat_minor": 2
}
